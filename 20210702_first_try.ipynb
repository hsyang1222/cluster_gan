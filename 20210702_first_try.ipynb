{
 "cells": [
  {
   "cell_type": "code",
   "execution_count": 1,
   "id": "43375a72",
   "metadata": {},
   "outputs": [
    {
     "name": "stderr",
     "output_type": "stream",
     "text": [
      "Using cache found in /root/.cache/torch/hub/pytorch_vision_v0.9.0\n"
     ]
    },
    {
     "name": "stdout",
     "output_type": "stream",
     "text": [
      "Files already downloaded and verified\n"
     ]
    },
    {
     "name": "stderr",
     "output_type": "stream",
     "text": [
      "insert real dataset: 100%|██████████| 25/25 [00:10<00:00,  2.47it/s]\n",
      "  0%|          | 0/782 [00:00<?, ?it/s]"
     ]
    },
    {
     "name": "stdout",
     "output_type": "stream",
     "text": [
      "generate real images info\n"
     ]
    },
    {
     "name": "stderr",
     "output_type": "stream",
     "text": [
      "100%|██████████| 782/782 [02:17<00:00,  5.71it/s]\n"
     ]
    },
    {
     "name": "stdout",
     "output_type": "stream",
     "text": [
      "K-means for the Euclidean metric with 50,000 points in dimension 2,048, K = 100:\n",
      "Timing for 100 iterations: 1.87001s = 100 x 0.01870s\n",
      "\n",
      "make and save pickle file : %s ../inception_model_info/9aa4ddb3bd06dd3539a303459af7736c.pickle_cls_info.pickle\n"
     ]
    }
   ],
   "source": [
    "import generative_model_score\n",
    "score_model = generative_model_score.GenerativeModelScore()\n",
    "score_model.lazy_mode(True)\n",
    "import dataset\n",
    "import TorchKmeans\n",
    "train_loader = dataset.get_cifar1_dataset(2048, 32, shuffle=False)\n",
    "data_cl_loader, numdata_in_cl = TorchKmeans.clusterset_with_gm_load_or_make(score_model, train_loader)\n",
    "#score_model.load_or_make(train_loader)\n",
    "\n",
    "import torch\n"
   ]
  },
  {
   "cell_type": "code",
   "execution_count": null,
   "id": "190b1b37",
   "metadata": {},
   "outputs": [],
   "source": []
  },
  {
   "cell_type": "code",
   "execution_count": 10,
   "id": "f5d11b96",
   "metadata": {},
   "outputs": [],
   "source": [
    "device = 'cuda:0'\n",
    "n_epoch = 1e+6"
   ]
  },
  {
   "cell_type": "code",
   "execution_count": 43,
   "id": "b916452b",
   "metadata": {},
   "outputs": [],
   "source": [
    "import torch.nn as nn\n",
    "ndf = 64\n",
    "ngf = 64\n",
    "nz = 100\n",
    "nc = 3\n",
    "ngpu = 1\n",
    "\n",
    "class Assigner(nn.Module):\n",
    "    def __init__(self, ngpu, K):\n",
    "        super(Assigner, self).__init__()\n",
    "        self.ngpu = ngpu\n",
    "        self.main = nn.Sequential(\n",
    "            # input is (nc) x 64 x 64\n",
    "            nn.Conv2d(nc, ndf, 4, 2, 1, bias=False),\n",
    "            nn.LeakyReLU(0.2, inplace=True),\n",
    "            # state size. (ndf) x 32 x 32\n",
    "            nn.Conv2d(ndf, ndf * 2, 4, 2, 1, bias=False),\n",
    "            nn.BatchNorm2d(ndf * 2),\n",
    "            nn.LeakyReLU(0.2, inplace=True),\n",
    "            # state size. (ndf*2) x 16 x 16\n",
    "            nn.Conv2d(ndf * 2, ndf * 4, 4, 2, 1, bias=False),\n",
    "            nn.BatchNorm2d(ndf * 4),\n",
    "            nn.LeakyReLU(0.2, inplace=True),\n",
    "            # state size. (ndf*4) x 8 x 8\n",
    "            nn.Conv2d(ndf * 4, ndf * 8, 4, 2, 1, bias=False),\n",
    "            nn.BatchNorm2d(ndf * 8),\n",
    "            nn.LeakyReLU(0.2, inplace=True),\n",
    "            nn.Flatten(),\n",
    "            #  -- original code --\n",
    "            # state size. (ndf*8) x 4 x 4\n",
    "            #nn.Conv2d(ndf * 8, 1, 4, 1, 0, bias=False),\n",
    "            #nn.Conv2d(ndf * 8, 1, 2, 1, 0, bias=False),\n",
    "            # state size. 1x1x1\n",
    "            #nn.Sigmoid()\n",
    "            nn.Linear(2048, K)\n",
    "        )\n",
    "\n",
    "    def forward(self, input):\n",
    "        if input.is_cuda and self.ngpu > 1:\n",
    "            output = nn.parallel.data_parallel(self.main, input, range(self.ngpu))\n",
    "        else:\n",
    "            output = self.main(input)\n",
    "\n",
    "        return output.view(-1, 1).squeeze(1)\n",
    "\n",
    "assign = Assigner(ngpu, 100).to(device)"
   ]
  },
  {
   "cell_type": "code",
   "execution_count": 44,
   "id": "8495d8af",
   "metadata": {},
   "outputs": [],
   "source": [
    "criterion = torch.nn.CrossEntropyLoss()\n",
    "assign_optim = torch.optim.Adam(assign.parameters(), lr=1e-4)"
   ]
  },
  {
   "cell_type": "code",
   "execution_count": 45,
   "id": "74431b1b",
   "metadata": {
    "scrolled": true
   },
   "outputs": [
    {
     "name": "stdout",
     "output_type": "stream",
     "text": [
      "0 0.1025390625 3.883622884750366\n",
      "1 0.162109375 3.589569568634033\n",
      "2 0.1865234375 3.3730077743530273\n",
      "3 0.19970703125 3.2602040767669678\n",
      "4 0.228515625 3.111415147781372\n",
      "5 0.25439453125 3.010782241821289\n",
      "6 0.29541015625 2.846712827682495\n",
      "7 0.3046875 2.785303831100464\n",
      "8 0.34130859375 2.638354778289795\n",
      "9 0.3583984375 2.55979585647583\n",
      "10 0.40234375 2.385891914367676\n",
      "11 0.3994140625 2.393885374069214\n",
      "12 0.45654296875 2.2261126041412354\n",
      "13 0.44287109375 2.193819999694824\n",
      "14 0.48583984375 2.0398716926574707\n",
      "15 0.50146484375 2.0078928470611572\n",
      "16 0.53173828125 1.9140528440475464\n",
      "17 0.56103515625 1.821030616760254\n",
      "18 0.5810546875 1.7712167501449585\n",
      "19 0.61328125 1.6462348699569702\n",
      "20 0.6298828125 1.6269111633300781\n",
      "21 0.6845703125 1.4747446775436401\n",
      "22 0.6943359375 1.4289196729660034\n",
      "23 0.71826171875 1.3497103452682495\n",
      "24 0.74609375 1.2601025104522705\n",
      "25 0.75390625 1.2063143253326416\n",
      "26 0.77490234375 1.17573082447052\n",
      "27 0.78759765625 1.0998814105987549\n",
      "28 0.81640625 1.0226222276687622\n",
      "29 0.84423828125 0.917066752910614\n",
      "30 0.8623046875 0.8836299180984497\n",
      "31 0.8857421875 0.7938172817230225\n",
      "32 0.8857421875 0.7794613242149353\n",
      "33 0.90283203125 0.743553638458252\n",
      "34 0.90771484375 0.6772838830947876\n",
      "35 0.92578125 0.6161858439445496\n",
      "36 0.9296875 0.6018108129501343\n",
      "37 0.93701171875 0.5500186085700989\n",
      "38 0.947265625 0.5182312726974487\n",
      "39 0.95654296875 0.4576258659362793\n",
      "40 0.9638671875 0.4433329403400421\n",
      "41 0.97705078125 0.38865551352500916\n",
      "42 0.974609375 0.3733946979045868\n",
      "43 0.98291015625 0.34123775362968445\n",
      "44 0.982421875 0.32639968395233154\n",
      "45 0.98681640625 0.2930634617805481\n",
      "46 0.99072265625 0.27272555232048035\n",
      "47 0.98974609375 0.2540144920349121\n",
      "48 0.9921875 0.22809481620788574\n",
      "49 0.99462890625 0.21805104613304138\n",
      "50 0.99462890625 0.20110012590885162\n",
      "51 0.9921875 0.19061186909675598\n",
      "52 0.998046875 0.1754058301448822\n",
      "53 0.99560546875 0.16417954862117767\n",
      "54 0.99853515625 0.15239745378494263\n",
      "55 0.9990234375 0.13965000212192535\n",
      "56 0.9990234375 0.1342618465423584\n",
      "57 0.9990234375 0.13130660355091095\n",
      "58 1.0 0.11537019908428192\n",
      "59 1.0 0.10771706700325012\n"
     ]
    },
    {
     "ename": "KeyboardInterrupt",
     "evalue": "",
     "output_type": "error",
     "traceback": [
      "\u001b[0;31m---------------------------------------------------------------------------\u001b[0m",
      "\u001b[0;31mKeyboardInterrupt\u001b[0m                         Traceback (most recent call last)",
      "\u001b[0;32m<ipython-input-45-88c691b96ca7>\u001b[0m in \u001b[0;36m<module>\u001b[0;34m\u001b[0m\n\u001b[1;32m      3\u001b[0m     \u001b[0;32mfor\u001b[0m \u001b[0mi\u001b[0m\u001b[0;34m,\u001b[0m \u001b[0;34m(\u001b[0m\u001b[0mdata\u001b[0m\u001b[0;34m,\u001b[0m \u001b[0mcluster\u001b[0m\u001b[0;34m)\u001b[0m \u001b[0;32min\u001b[0m \u001b[0menumerate\u001b[0m\u001b[0;34m(\u001b[0m\u001b[0mdata_cl_loader\u001b[0m\u001b[0;34m)\u001b[0m \u001b[0;34m:\u001b[0m\u001b[0;34m\u001b[0m\u001b[0;34m\u001b[0m\u001b[0m\n\u001b[1;32m      4\u001b[0m         \u001b[0mbatch_size\u001b[0m \u001b[0;34m=\u001b[0m \u001b[0mdata\u001b[0m\u001b[0;34m.\u001b[0m\u001b[0msize\u001b[0m\u001b[0;34m(\u001b[0m\u001b[0;36m0\u001b[0m\u001b[0;34m)\u001b[0m\u001b[0;34m\u001b[0m\u001b[0;34m\u001b[0m\u001b[0m\n\u001b[0;32m----> 5\u001b[0;31m         \u001b[0mimage_cuda\u001b[0m \u001b[0;34m=\u001b[0m \u001b[0mdata\u001b[0m\u001b[0;34m.\u001b[0m\u001b[0mto\u001b[0m\u001b[0;34m(\u001b[0m\u001b[0mdevice\u001b[0m\u001b[0;34m)\u001b[0m\u001b[0;34m\u001b[0m\u001b[0;34m\u001b[0m\u001b[0m\n\u001b[0m\u001b[1;32m      6\u001b[0m         \u001b[0mcluster_cuda\u001b[0m \u001b[0;34m=\u001b[0m \u001b[0mcluster\u001b[0m\u001b[0;34m.\u001b[0m\u001b[0mto\u001b[0m\u001b[0;34m(\u001b[0m\u001b[0mdevice\u001b[0m\u001b[0;34m)\u001b[0m\u001b[0;34m\u001b[0m\u001b[0;34m\u001b[0m\u001b[0m\n\u001b[1;32m      7\u001b[0m         \u001b[0mpredict_cluster\u001b[0m \u001b[0;34m=\u001b[0m \u001b[0massign\u001b[0m\u001b[0;34m(\u001b[0m\u001b[0mimage_cuda\u001b[0m\u001b[0;34m)\u001b[0m\u001b[0;34m.\u001b[0m\u001b[0mview\u001b[0m\u001b[0;34m(\u001b[0m\u001b[0mbatch_size\u001b[0m\u001b[0;34m,\u001b[0m \u001b[0;34m-\u001b[0m\u001b[0;36m1\u001b[0m\u001b[0;34m)\u001b[0m\u001b[0;34m\u001b[0m\u001b[0;34m\u001b[0m\u001b[0m\n",
      "\u001b[0;31mKeyboardInterrupt\u001b[0m: "
     ]
    }
   ],
   "source": [
    "epoch = 0\n",
    "while epoch < n_epoch : \n",
    "    for i, (data, cluster) in enumerate(data_cl_loader) :         \n",
    "        batch_size = data.size(0)\n",
    "        image_cuda = data.to(device)\n",
    "        cluster_cuda = cluster.to(device)\n",
    "        predict_cluster = assign(image_cuda).view(batch_size, -1)\n",
    "        loss = criterion(predict_cluster, cluster_cuda)\n",
    "        hit = torch.argmax(predict_cluster, dim=1) == cluster_cuda\n",
    "                \n",
    "        if i >= 20 : break\n",
    "        \n",
    "        assign_optim.zero_grad()\n",
    "        loss.backward()\n",
    "        assign_optim.step()\n",
    "        \n",
    "    acc = torch.sum(hit).float()/len(hit)\n",
    "    print(epoch, acc.item(), loss.item())\n",
    "    epoch += 1"
   ]
  },
  {
   "cell_type": "code",
   "execution_count": null,
   "id": "4fcf7b09",
   "metadata": {},
   "outputs": [],
   "source": []
  },
  {
   "cell_type": "code",
   "execution_count": null,
   "id": "a7886a2d",
   "metadata": {},
   "outputs": [],
   "source": []
  },
  {
   "cell_type": "code",
   "execution_count": null,
   "id": "4524a842",
   "metadata": {},
   "outputs": [],
   "source": []
  },
  {
   "cell_type": "code",
   "execution_count": null,
   "id": "69e2bef2",
   "metadata": {},
   "outputs": [],
   "source": []
  },
  {
   "cell_type": "code",
   "execution_count": null,
   "id": "3cdaee25",
   "metadata": {},
   "outputs": [],
   "source": []
  },
  {
   "cell_type": "code",
   "execution_count": null,
   "id": "31220845",
   "metadata": {},
   "outputs": [],
   "source": []
  },
  {
   "cell_type": "code",
   "execution_count": null,
   "id": "d1b7e955",
   "metadata": {},
   "outputs": [],
   "source": []
  },
  {
   "cell_type": "code",
   "execution_count": null,
   "id": "3fed56dc",
   "metadata": {},
   "outputs": [],
   "source": []
  },
  {
   "cell_type": "code",
   "execution_count": null,
   "id": "8efacd65",
   "metadata": {},
   "outputs": [],
   "source": []
  },
  {
   "cell_type": "code",
   "execution_count": null,
   "id": "6a803a63",
   "metadata": {},
   "outputs": [],
   "source": []
  },
  {
   "cell_type": "code",
   "execution_count": null,
   "id": "e2b96faf",
   "metadata": {},
   "outputs": [],
   "source": [
    "if __name__ == \"__main__\":\n",
    "    parser = argparse.ArgumentParser()\n",
    "\n",
    "\n",
    "    parser.add_argument('--device', type=str, default='cuda')\n",
    "    parser.add_argument('--epochs', type=int, default=100)\n",
    "    parser.add_argument('--batch_size', type=int, default=64)\n",
    "    parser.add_argument('--img_size', type=int, default=32)\n",
    "    parser.add_argument('--save_image_interval', type=int, default=5)\n",
    "    parser.add_argument('--loss_calculation_interval', type=int, default=5)\n",
    "    parser.add_argument('--latent_dim', type=int, default=10)\n",
    "    parser.add_argument('--n_iter', type=int, default=3)\n",
    "    parser.add_argument('--project_name', type=str, default='AAE')\n",
    "    parser.add_argument('--dataset', type=str, default='', choices=['LSUN_dining_room', 'LSUN_classroom', 'LSUN_conference', 'LSUN_churches',\n",
    "                                                                    'FFHQ', 'CelebA', 'cifar10', 'mnist', 'mnist_fashion', 'emnist'])\n",
    "\n",
    "    parser.add_argument('--model_name', type=str, default='', choices=['vanilla', 'yeop_loss', \n",
    "                                                                       'yeop_n_iter', 'mod_var', 'mod2_var', 'gme', 'latent_mapping', 'gme_inference', 'direct'])\n",
    "\n",
    "    parser.add_argument('--lr', type=float, default=1e-4)\n",
    "    parser.add_argument('--run_test', type=bool, default=False)\n",
    "\n",
    "    args = parser.parse_args()\n",
    "\n",
    "    main(args)"
   ]
  }
 ],
 "metadata": {
  "kernelspec": {
   "display_name": "stylegan2",
   "language": "python",
   "name": "stylegan2"
  },
  "language_info": {
   "codemirror_mode": {
    "name": "ipython",
    "version": 3
   },
   "file_extension": ".py",
   "mimetype": "text/x-python",
   "name": "python",
   "nbconvert_exporter": "python",
   "pygments_lexer": "ipython3",
   "version": "3.9.5"
  }
 },
 "nbformat": 4,
 "nbformat_minor": 5
}
